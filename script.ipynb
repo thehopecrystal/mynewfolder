{
 "cells": [
  {
   "cell_type": "code",
   "execution_count": null,
   "metadata": {},
   "outputs": [],
   "source": [
    "items = int(input('How many items are you buyinjg'))\n",
    "\n",
    "# Determine the cost per item based on the quantity\n",
    "\n",
    "if items < 10:\n",
    "    cost = 12\n",
    "elif 10 <= items <= 100:\n",
    "    cost = 10\n",
    "else:\n",
    "    cost = 7\n",
    "\n",
    "# Calculate the total cost\n",
    "\n",
    "total = items * cost\n",
    "\n",
    "print(f'The total cost is: ${total}')"
   ]
  },
  {
   "cell_type": "code",
   "execution_count": null,
   "metadata": {},
   "outputs": [],
   "source": [
    "credits = int(input('How many credits have you taken?'))\n",
    "\n",
    "# Determine the students classification\n",
    "\n",
    "if credits <= 23:\n",
    "    print('The student is a freshman')\n",
    "elif 24 <= credits <= 53:\n",
    "    print('The student is a sophomore')\n",
    "elif 54 <= credits <= 83:\n",
    "    print('The student is a junior')\n",
    "else:\n",
    "    print('The student is a senior')"
   ]
  },
  {
   "cell_type": "code",
   "execution_count": null,
   "metadata": {},
   "outputs": [],
   "source": [
    "user = input('Enter a text')\n",
    "\n",
    "for i in user:\n",
    "    print(i*2)"
   ]
  },
  {
   "cell_type": "code",
   "execution_count": null,
   "metadata": {},
   "outputs": [],
   "source": [
    "name = 'hillary'\n",
    "\n",
    "name.find('l')"
   ]
  },
  {
   "cell_type": "code",
   "execution_count": null,
   "metadata": {},
   "outputs": [],
   "source": [
    "user = input('Enter a word containing the letter a')\n",
    "\n",
    "firstA = user.find('a')\n",
    "\n",
    "# Check if the letter 'a' is present in the string\n",
    "\n",
    "if firstA != -1:\n",
    "\n",
    "    # Get the part of the string up to and including the first 'a'\n",
    "    firstPart = user[ : firstA +1]\n",
    "\n",
    "    restParts = user[firstA+1 : ]\n",
    "\n",
    "    # Print the results\n",
    "    print(firstPart)\n",
    "    print(restParts)\n",
    "\n",
    "else:\n",
    "    print('The letter \"a\" is not present')"
   ]
  },
  {
   "cell_type": "code",
   "execution_count": null,
   "metadata": {},
   "outputs": [],
   "source": [
    "user = input('Enter a word')\n",
    "\n",
    "result = ''\n",
    "\n",
    "for i in range(len(user)):\n",
    "    if i % 2 == 1: #Capitalizes odd letters\n",
    "        result += user[i].upper()\n",
    "    else:\n",
    "        result += user[i].lower()\n",
    "\n",
    "print(result)"
   ]
  },
  {
   "cell_type": "code",
   "execution_count": 25,
   "metadata": {},
   "outputs": [],
   "source": [
    "cars = ['Audi', 'Volvo', 'Benz', 'Toyota', 'Lexus']\n",
    "cars.sort( reverse=True)\n",
    "\n",
    "cars[2 :].sort()"
   ]
  },
  {
   "cell_type": "code",
   "execution_count": null,
   "metadata": {},
   "outputs": [],
   "source": [
    "user = int(input('Enter a number'))\n",
    "\n",
    "for i in range(1, user+1):\n",
    "    print(' ' * i, i)"
   ]
  },
  {
   "cell_type": "code",
   "execution_count": 4,
   "metadata": {},
   "outputs": [],
   "source": [
    "nnn = 'buffalo'\n",
    "\n",
    "av = nnn.find('a')"
   ]
  },
  {
   "cell_type": "code",
   "execution_count": null,
   "metadata": {},
   "outputs": [],
   "source": [
    "print(nnn[ : av+1])\n",
    "print(nnn[av+1 : ])"
   ]
  },
  {
   "cell_type": "code",
   "execution_count": null,
   "metadata": {},
   "outputs": [],
   "source": [
    "fl = ''\n",
    "for i in range(len(nnn)):\n",
    "    if i % 2 == 0:\n",
    "        fl += nnn[i].lower()\n",
    "    \n",
    "    else:\n",
    "        fl += nnn[i].upper()\n",
    "-\n",
    "fl\n"
   ]
  },
  {
   "cell_type": "code",
   "execution_count": null,
   "metadata": {},
   "outputs": [],
   "source": [
    "cars = ['Volvo', 'Benz', 'Toyota', 'Audi', 'BMW']\n",
    "\n",
    "cars"
   ]
  },
  {
   "cell_type": "code",
   "execution_count": null,
   "metadata": {},
   "outputs": [],
   "source": [
    "for i in range(10):\n",
    "    print(i)\n",
    "    if i == 7:\n",
    "        break"
   ]
  },
  {
   "cell_type": "code",
   "execution_count": 7,
   "metadata": {},
   "outputs": [],
   "source": [
    "i = 0\n",
    "num = 1\n",
    "\n",
    "while i < 10 and num > 0:\n",
    "    num = eval(input('Enter a number'))"
   ]
  },
  {
   "cell_type": "code",
   "execution_count": null,
   "metadata": {},
   "outputs": [],
   "source": [
    "from random import randint\n",
    "\n",
    "computer = randint(1, 100)\n",
    "tries = 0\n",
    "guess = 0\n",
    "\n",
    "while guess != computer and tries < 4:\n",
    "    guess = eval(input('Guess your number (1 - 100)'))\n",
    "    tries += 1\n",
    "\n",
    "    if guess > computer:\n",
    "        print('The guess is too high')\n",
    "        print(f'{tries} guesses left')\n",
    "\n",
    "    elif guess < computer:\n",
    "        print('The guess is too low')\n",
    "        print(f'{tries} guesses left')\n",
    "\n",
    "    else:\n",
    "        print('You got it right')\n",
    "\n",
    "\n",
    "if tries == 5 and guess != computer:\n",
    "    print(f'You loose. The correct answer is {computer}')"
   ]
  },
  {
   "cell_type": "code",
   "execution_count": null,
   "metadata": {},
   "outputs": [],
   "source": [
    "from random import randint\n",
    "\n",
    "computer = randint(1, 100)\n",
    "\n",
    "for i in range(4):\n",
    "    guess = eval(input('Guess a number between 1 - 100'))\n",
    "\n",
    "    if guess < computer:\n",
    "        print('Your guess is too low')\n",
    "        print(f'You have {5-i} left')\n",
    "\n",
    "    elif guess > computer:\n",
    "        print('Your guess is higher')\n",
    "        print(f'You have {5-i} left')\n",
    "\n",
    "    else:\n",
    "        print('You got it right')\n",
    "        break\n",
    "\n",
    "else:\n",
    "    print(f'You lost. The correct number is {computer}')"
   ]
  },
  {
   "cell_type": "code",
   "execution_count": null,
   "metadata": {},
   "outputs": [],
   "source": [
    "flag = 0\n",
    "\n",
    "while flag < 50:\n",
    "    flag += 1\n",
    "    print(flag)"
   ]
  },
  {
   "cell_type": "code",
   "execution_count": null,
   "metadata": {},
   "outputs": [],
   "source": [
    "string = 'Michael'\n",
    "\n",
    "for i in string:\n",
    "    print(i)"
   ]
  },
  {
   "cell_type": "code",
   "execution_count": null,
   "metadata": {},
   "outputs": [],
   "source": [
    "string = 'Michael'\n",
    "i = 0\n",
    "\n",
    "while i < len(string):\n",
    "    print(string[i])\n",
    "    i += 2"
   ]
  },
  {
   "cell_type": "code",
   "execution_count": null,
   "metadata": {},
   "outputs": [],
   "source": [
    "while True:\n",
    "    userKG = float(input('Enter a weight in KG:'))\n",
    "\n",
    "    if userKG < 0:\n",
    "        print('Invalid input. Weight cannot be negative. Please try agian')\n",
    "\n",
    "    else:\n",
    "        weightLBS = userKG * 2.205\n",
    "        print(f'{userKG} kg is equal to {weightLBS} pounds')\n",
    "        break"
   ]
  },
  {
   "cell_type": "code",
   "execution_count": null,
   "metadata": {},
   "outputs": [],
   "source": [
    "dictionary = {'name': 'Michael', 'age': 125}\n",
    "\n",
    "dictionary['age']"
   ]
  },
  {
   "cell_type": "code",
   "execution_count": null,
   "metadata": {},
   "outputs": [],
   "source": [
    "dictionary['name'] = 'David'\n",
    "\n",
    "dictionary"
   ]
  },
  {
   "cell_type": "code",
   "execution_count": null,
   "metadata": {},
   "outputs": [],
   "source": [
    "dictionary['email'] = 'davidwood@gmail.com'\n",
    "\n",
    "dictionary"
   ]
  },
  {
   "cell_type": "code",
   "execution_count": null,
   "metadata": {},
   "outputs": [],
   "source": [
    "del dictionary['email']\n",
    "dictionary"
   ]
  },
  {
   "cell_type": "code",
   "execution_count": 12,
   "metadata": {},
   "outputs": [],
   "source": [
    "second = dictionary.copy()"
   ]
  },
  {
   "cell_type": "code",
   "execution_count": null,
   "metadata": {},
   "outputs": [],
   "source": [
    "second"
   ]
  },
  {
   "cell_type": "code",
   "execution_count": null,
   "metadata": {},
   "outputs": [],
   "source": [
    "for i in dictionary:\n",
    "    print(dictionary[i])"
   ]
  },
  {
   "cell_type": "code",
   "execution_count": null,
   "metadata": {},
   "outputs": [],
   "source": [
    "list(dictionary)"
   ]
  },
  {
   "cell_type": "code",
   "execution_count": null,
   "metadata": {},
   "outputs": [],
   "source": [
    "list(dictionary.values())"
   ]
  },
  {
   "cell_type": "code",
   "execution_count": null,
   "metadata": {},
   "outputs": [],
   "source": [
    "list(dictionary.items())"
   ]
  },
  {
   "cell_type": "code",
   "execution_count": null,
   "metadata": {},
   "outputs": [],
   "source": [
    "myvar = dict([('name', 'David'), ('age', 125)])\n",
    "\n",
    "myvar"
   ]
  },
  {
   "cell_type": "code",
   "execution_count": null,
   "metadata": {},
   "outputs": [],
   "source": [
    "int('')"
   ]
  },
  {
   "cell_type": "code",
   "execution_count": null,
   "metadata": {},
   "outputs": [],
   "source": [
    "products = {}\n",
    "\n",
    "# Ask the users for the product names and prices until you write 'stop'\n",
    "\n",
    "while True:\n",
    "    productName = input('Enter the product name')\n",
    "\n",
    "    if productName.lower() == 'stop':\n",
    "        break\n",
    "\n",
    "    productPrice = float(input(f'Enter the price for {productName}'))\n",
    "    products[productName] = productPrice\n",
    "\n",
    "print(products)"
   ]
  },
  {
   "cell_type": "code",
   "execution_count": null,
   "metadata": {},
   "outputs": [],
   "source": [
    "print('Search for the product and prices')\n",
    "\n",
    "while True:\n",
    "    search = input('Enter product name to get the price (stop) to finish')\n",
    "\n",
    "    if search.lower() == 'stop':\n",
    "        break\n",
    "\n",
    "    if search in products:\n",
    "        print(f'The price of {search} is ${products[search]}')\n",
    "\n",
    "    else:\n",
    "        print(f'{search} not found in product list')"
   ]
  },
  {
   "cell_type": "code",
   "execution_count": null,
   "metadata": {},
   "outputs": [],
   "source": [
    "print('Hello World')"
   ]
  },
  {
   "cell_type": "code",
   "execution_count": null,
   "metadata": {},
   "outputs": [],
   "source": [
    "print(2*10)"
   ]
  },
  {
   "cell_type": "code",
   "execution_count": null,
   "metadata": {},
   "outputs": [],
   "source": [
    "recorder = 0\n",
    "for i in range(3):\n",
    "    recorder += 2\n",
    "    print(recorder)\n",
    "    print('*')"
   ]
  },
  {
   "cell_type": "code",
   "execution_count": null,
   "metadata": {},
   "outputs": [],
   "source": [
    "first = 'Michael'\n",
    "last = 'Smith'\n",
    "\n",
    "a = '5'\n",
    "b = '7'\n",
    "\n",
    "print(22/7)\n",
    "\n",
    "print('Hello', first)"
   ]
  },
  {
   "cell_type": "code",
   "execution_count": null,
   "metadata": {},
   "outputs": [],
   "source": [
    "celcius = float(input('Enter a number in Celcius'))\n",
    "farenheit = 9/5 * celcius + 32\n",
    "\n",
    "print('In Fahrenheit, that is', farenheit)\n"
   ]
  },
  {
   "cell_type": "markdown",
   "metadata": {},
   "source": [
    "VARIABLES\n",
    "\n",
    "DATA TYPES\n",
    "\n",
    "INPUT\n",
    "\n",
    "OUTPUT"
   ]
  },
  {
   "cell_type": "markdown",
   "metadata": {},
   "source": [
    "Variables are containers that holds a value. You can give the container a name and use it later in your programs.\n",
    "\n",
    "RULES OF NAMING VARIABLES\n",
    "\n",
    "1. Must start with a letter or underscore _\n",
    "\n",
    "2. Variables cannot contain spaces\n",
    "\n",
    "3. Variables cannot start with numbers\n",
    "\n",
    "4. Your variables should be descriptive to make your code readable"
   ]
  },
  {
   "cell_type": "code",
   "execution_count": null,
   "metadata": {},
   "outputs": [],
   "source": [
    "name = 'Alice'   # A string (text)\n",
    "age = 25         # An interger (whole number)\n",
    "height = 5.5     # A float (decimal number)\n",
    "\n",
    "# Printing Variables\n",
    "print(name)\n",
    "print(age)\n",
    "print(height)"
   ]
  },
  {
   "cell_type": "markdown",
   "metadata": {},
   "source": [
    "DATA TYPES\n",
    "\n",
    "Variables in Python can hold data of different types. Common types include:\n",
    "\n",
    "Basic Data Types:\n",
    "1. String (str): Text, enclosed in quotation marks ''\n",
    "2. Interger (int): Whole Numbers\n",
    "3. Float (float): Decimal Numbers\n",
    "4. Boolean (bool): True or False statements"
   ]
  },
  {
   "cell_type": "code",
   "execution_count": null,
   "metadata": {},
   "outputs": [],
   "source": [
    "# String\n",
    "greetings = 'Hello, world!'\n",
    "print(type(greetings))\n",
    "\n",
    "# Interger\n",
    "number = 52\n",
    "print(type(number))\n",
    "\n",
    "# Float\n",
    "price = 19.99\n",
    "print(type(price))\n",
    "\n",
    "# Boolean\n",
    "is_python_fun = True\n",
    "print(type(is_python_fun))"
   ]
  },
  {
   "cell_type": "markdown",
   "metadata": {},
   "source": [
    "INPUT\n",
    "\n",
    "The input() function allows users to enter data into your python program. By default the input is always returned as a string, so you may need to convert it to other data types"
   ]
  },
  {
   "cell_type": "code",
   "execution_count": null,
   "metadata": {},
   "outputs": [],
   "source": [
    "# Getting input from the user\n",
    "name = input('Enter your name')\n",
    "age = input('Enter your age')\n",
    "\n",
    "# Convert the age to an interger\n",
    "age = int(age)\n",
    "\n",
    "print(f'Welcome {name} you are {age} years old')"
   ]
  },
  {
   "cell_type": "markdown",
   "metadata": {},
   "source": [
    "OUTPUT\n",
    "\n",
    "The output is very easy, we use the print() function to display information to the users"
   ]
  },
  {
   "cell_type": "code",
   "execution_count": null,
   "metadata": {},
   "outputs": [],
   "source": [
    "# Simple Output\n",
    "print('PYTHON is very simple and fun')\n",
    "\n",
    "#  Combining variables in output\n",
    "name = 'Franklyn'\n",
    "print('Hello, ' + name + '!')\n",
    "\n",
    "# Using the f-strings for formatted output\n",
    "age = 53\n",
    "print(f'{name} is {age} years old.')"
   ]
  }
 ],
 "metadata": {
  "kernelspec": {
   "display_name": "Python 3",
   "language": "python",
   "name": "python3"
  },
  "language_info": {
   "codemirror_mode": {
    "name": "ipython",
    "version": 3
   },
   "file_extension": ".py",
   "mimetype": "text/x-python",
   "name": "python",
   "nbconvert_exporter": "python",
   "pygments_lexer": "ipython3",
   "version": "3.12.6"
  }
 },
 "nbformat": 4,
 "nbformat_minor": 2
}
